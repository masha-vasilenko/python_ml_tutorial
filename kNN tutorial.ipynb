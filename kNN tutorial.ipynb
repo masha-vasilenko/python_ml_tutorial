{
 "cells": [
  {
   "cell_type": "markdown",
   "metadata": {},
   "source": [
    "# kNN Clustering"
   ]
  },
  {
   "cell_type": "markdown",
   "metadata": {},
   "source": [
    "This notebook follows the tutorial by https://pythonprogramming.net"
   ]
  },
  {
   "cell_type": "markdown",
   "metadata": {
    "hideCode": false,
    "hidePrompt": false
   },
   "source": [
    "## kNN using Scikit-Learn"
   ]
  },
  {
   "cell_type": "code",
   "execution_count": 1,
   "metadata": {
    "hideCode": false,
    "hidePrompt": false
   },
   "outputs": [],
   "source": [
    "import numpy as np\n",
    "from sklearn import preprocessing, neighbors\n",
    "from sklearn.model_selection import train_test_split\n",
    "import pandas as pd"
   ]
  },
  {
   "cell_type": "code",
   "execution_count": 30,
   "metadata": {
    "hideCode": false,
    "hidePrompt": false
   },
   "outputs": [],
   "source": [
    "df = pd.read_csv(\"/Users/owner/data/breast-cancer-wisconsin.data.txt\")"
   ]
  },
  {
   "cell_type": "code",
   "execution_count": 31,
   "metadata": {
    "hideCode": false,
    "hidePrompt": false
   },
   "outputs": [],
   "source": [
    "df.replace(\"?\",-99999, inplace=True)"
   ]
  },
  {
   "cell_type": "code",
   "execution_count": 32,
   "metadata": {
    "hideCode": false,
    "hidePrompt": false
   },
   "outputs": [],
   "source": [
    "df.drop(['id'],1,inplace=True)"
   ]
  },
  {
   "cell_type": "code",
   "execution_count": 33,
   "metadata": {
    "hideCode": false,
    "hidePrompt": false
   },
   "outputs": [],
   "source": [
    "#Define features X and y\n",
    "X = np.array(df.drop(['class'],1))\n",
    "y = np.array(df['class'])"
   ]
  },
  {
   "cell_type": "code",
   "execution_count": 34,
   "metadata": {
    "hideCode": false,
    "hidePrompt": false
   },
   "outputs": [],
   "source": [
    "# Split the set into training and test\n",
    "X_train, X_test, y_train, y_test = train_test_split(X,y, test_size = 0.2)\n"
   ]
  },
  {
   "cell_type": "code",
   "execution_count": 35,
   "metadata": {
    "hideCode": false,
    "hidePrompt": false
   },
   "outputs": [
    {
     "name": "stdout",
     "output_type": "stream",
     "text": [
      "CPU times: user 2.36 ms, sys: 2.94 ms, total: 5.3 ms\n",
      "Wall time: 9.59 ms\n"
     ]
    },
    {
     "data": {
      "text/plain": [
       "KNeighborsClassifier(algorithm='auto', leaf_size=30, metric='minkowski',\n",
       "           metric_params=None, n_jobs=1, n_neighbors=5, p=2,\n",
       "           weights='uniform')"
      ]
     },
     "execution_count": 35,
     "metadata": {},
     "output_type": "execute_result"
    }
   ],
   "source": [
    "# Define the classifier\n",
    "clf = neighbors.KNeighborsClassifier()\n",
    "# Train the classifier\n",
    "%time clf.fit(X_train, y_train)"
   ]
  },
  {
   "cell_type": "code",
   "execution_count": 36,
   "metadata": {
    "hideCode": false,
    "hidePrompt": false
   },
   "outputs": [
    {
     "name": "stdout",
     "output_type": "stream",
     "text": [
      "0.964285714286\n"
     ]
    }
   ],
   "source": [
    "# Test \n",
    "accuracy = clf.score(X_test, y_test)\n",
    "print(accuracy)"
   ]
  },
  {
   "cell_type": "code",
   "execution_count": null,
   "metadata": {
    "hideCode": false,
    "hidePrompt": false
   },
   "outputs": [],
   "source": [
    "__What if we include meaningless data ('id')?__"
   ]
  },
  {
   "cell_type": "code",
   "execution_count": 37,
   "metadata": {
    "hideCode": false,
    "hidePrompt": false
   },
   "outputs": [
    {
     "name": "stdout",
     "output_type": "stream",
     "text": [
      "0.607142857143\n"
     ]
    }
   ],
   "source": [
    "df1 = pd.read_csv(\"/Users/owner/data/breast-cancer-wisconsin.data.txt\")\n",
    "df1.replace('?',-99999, inplace=True)\n",
    "#df1.drop(['id'], 1, inplace=True)\n",
    "\n",
    "X1 = np.array(df1.drop(['class'], 1))\n",
    "y1 = np.array(df1['class'])\n",
    "\n",
    "X_train1, X_test1, y_train1, y_test1 = cross_validation.train_test_split(X1, y1, test_size=0.2)\n",
    "\n",
    "clf1 = neighbors.KNeighborsClassifier()\n",
    "clf1.fit(X_train1, y_train1)\n",
    "accuracy1 = clf1.score(X_test1, y_test1)\n",
    "print(accuracy1)"
   ]
  },
  {
   "cell_type": "code",
   "execution_count": null,
   "metadata": {
    "hideCode": false,
    "hidePrompt": false
   },
   "outputs": [],
   "source": [
    "The accuracy significantly dropped!!! "
   ]
  },
  {
   "cell_type": "code",
   "execution_count": 75,
   "metadata": {
    "hideCode": false,
    "hidePrompt": false
   },
   "outputs": [],
   "source": [
    "prediction = clf.predict(X_test)"
   ]
  },
  {
   "cell_type": "code",
   "execution_count": 81,
   "metadata": {
    "hideCode": false,
    "hidePrompt": false
   },
   "outputs": [
    {
     "name": "stdout",
     "output_type": "stream",
     "text": [
      "0.414039335605\n"
     ]
    }
   ],
   "source": [
    "def rmse(predictions, targets):\n",
    "    return np.sqrt(((predictions - targets) ** 2).mean())\n",
    "\n",
    "print(rmse(prediction,y_test))"
   ]
  },
  {
   "cell_type": "code",
   "execution_count": 79,
   "metadata": {
    "hideCode": false,
    "hidePrompt": false
   },
   "outputs": [
    {
     "name": "stdout",
     "output_type": "stream",
     "text": [
      "0.152540807855\n"
     ]
    }
   ],
   "source": [
    "print(rmse(prediction, y_test)/y_test.mean())"
   ]
  },
  {
   "cell_type": "code",
   "execution_count": 78,
   "metadata": {
    "hideCode": false,
    "hidePrompt": false
   },
   "outputs": [
    {
     "name": "stdout",
     "output_type": "stream",
     "text": [
      "0.957142857143\n"
     ]
    }
   ],
   "source": [
    "acc_test = clf.score(X_test, y_test, )\n",
    "print(acc_test)"
   ]
  },
  {
   "cell_type": "markdown",
   "metadata": {
    "hideCode": false,
    "hidePrompt": false
   },
   "source": [
    "## kNN from scratch"
   ]
  },
  {
   "cell_type": "markdown",
   "metadata": {
    "hideCode": false,
    "hidePrompt": false
   },
   "source": [
    "_Aside: __Eucledian Distance___"
   ]
  },
  {
   "cell_type": "code",
   "execution_count": 101,
   "metadata": {
    "hideCode": false,
    "hidePrompt": false
   },
   "outputs": [],
   "source": [
    "plot1 = [1,3]\n",
    "plot2 = [2,5]\n",
    "euclidean_dist = np.sqrt((plot1[0]-plot2[0])**2 + (plot1[1]-plot2[1])**2)\n",
    "# Using NumPy\n",
    "euclidean_dist1 = np.sqrt(np.sum((np.array(plot1) - np.array(plot2))**2))\n",
    "# Or using Numpy linalg.norm function\n",
    "euclidean_dist2 = np.linalg.norm(np.array(plot1) - np.array(plot2))"
   ]
  },
  {
   "cell_type": "code",
   "execution_count": 104,
   "metadata": {
    "hideCode": false,
    "hidePrompt": false
   },
   "outputs": [
    {
     "data": {
      "text/plain": [
       "2.2360679774997898"
      ]
     },
     "execution_count": 104,
     "metadata": {},
     "output_type": "execute_result"
    }
   ],
   "source": [
    "euclidean_dist2"
   ]
  },
  {
   "cell_type": "markdown",
   "metadata": {
    "hideCode": false,
    "hidePrompt": false
   },
   "source": [
    "### Algorithm Implementation"
   ]
  },
  {
   "cell_type": "code",
   "execution_count": 5,
   "metadata": {
    "hideCode": false,
    "hidePrompt": false
   },
   "outputs": [],
   "source": [
    "import numpy as np\n",
    "import matplotlib.pyplot as plt\n",
    "from matplotlib import style\n",
    "import warnings\n",
    "from math import sqrt\n",
    "from collections import Counter\n",
    "style.use('fivethirtyeight')"
   ]
  },
  {
   "cell_type": "code",
   "execution_count": 98,
   "metadata": {
    "hideCode": false,
    "hidePrompt": false
   },
   "outputs": [],
   "source": [
    "# Create a toy set\n",
    "dataset = {'k':[[1,2],[2,3],[3,1]], 'r':[[6,5],[7,7],[8,6]]}\n",
    "new_features = [5,7]"
   ]
  },
  {
   "cell_type": "code",
   "execution_count": 100,
   "metadata": {
    "hideCode": false,
    "hidePrompt": false
   },
   "outputs": [
    {
     "data": {
      "image/png": "[encoded data removed]",
      "text/plain": [
       "<matplotlib.figure.Figure at 0x10e56f5c0>"
      ]
     },
     "metadata": {},
     "output_type": "display_data"
    }
   ],
   "source": [
    "# Plot the dataset\n",
    "[[plt.scatter(ii[0],ii[1],s=100,color=i) for ii in dataset[i]] for i in dataset]\n",
    "plt.scatter(new_features[0], new_features[1], s=100)\n",
    "\n",
    "plt.show()\n"
   ]
  },
  {
   "cell_type": "code",
   "execution_count": 108,
   "metadata": {
    "hideCode": false,
    "hidePrompt": false
   },
   "outputs": [],
   "source": [
    "# Define a classification function\n",
    "def k_nearest_neighbors(data, predict, k = 3):\n",
    "    '''Given the training data (data) and test data (predict) \n",
    "    the function returns the prediction for a point'''\n",
    "    if len(data) > k:\n",
    "        warnings.warn('K is set to a value less than total voting groups!')\n",
    "        \n",
    "    # Calculate distance between the prediction point and each of the poin in a data set\n",
    "    distances = []\n",
    "    for group in data:\n",
    "        for item in data[group]:\n",
    "            euclidean_dist = np.linalg.norm(np.array(item)-np.array(predict))\n",
    "            distances.append([euclidean_dist, group])\n",
    "    votes = [i[1] for i in sorted(distances)[:k]]       \n",
    "    vote_result = Counter(votes).most_common(1)[0][0]\n",
    "    return vote_result\n"
   ]
  },
  {
   "cell_type": "code",
   "execution_count": 109,
   "metadata": {
    "hideCode": false,
    "hideOutput": true,
    "hidePrompt": false
   },
   "outputs": [
    {
     "name": "stdout",
     "output_type": "stream",
     "text": [
      "r\n"
     ]
    }
   ],
   "source": [
    "result = k_nearest_neighbors(dataset,new_features)\n",
    "print(result)"
   ]
  },
  {
   "cell_type": "code",
   "execution_count": 111,
   "metadata": {
    "hideCode": false,
    "hidePrompt": false
   },
   "outputs": [
    {
     "data": {
      "image/png": "[encoded data removed]",
      "text/plain": [
       "<matplotlib.figure.Figure at 0x1a17d0b4a8>"
      ]
     },
     "metadata": {},
     "output_type": "display_data"
    }
   ],
   "source": [
    "# Plot the dataset and classified prediction \n",
    "[[plt.scatter(ii[0],ii[1],s=100,color=i) for ii in dataset[i]] for i in dataset]\n",
    "plt.scatter(new_features[0], new_features[1], s=100)\n",
    "\n",
    "plt.scatter(new_features[0], new_features[1], s=100, color = result)  \n",
    "plt.show()"
   ]
  },
  {
   "cell_type": "markdown",
   "metadata": {
    "hideCode": false,
    "hidePrompt": false
   },
   "source": [
    "### Testing on a larger data set (breast cancer data)"
   ]
  },
  {
   "cell_type": "markdown",
   "metadata": {
    "hideCode": false,
    "hidePrompt": false
   },
   "source": [
    "Let's put together the necessary libraries and the user defined function:"
   ]
  },
  {
   "cell_type": "code",
   "execution_count": 15,
   "metadata": {},
   "outputs": [],
   "source": [
    "import numpy as np\n",
    "import matplotlib.pyplot as plt\n",
    "from matplotlib import style\n",
    "import warnings\n",
    "from math import sqrt\n",
    "from collections import Counter\n",
    "import random\n",
    "style.use('fivethirtyeight')\n",
    "\n",
    "# Define a classification function\n",
    "def k_nearest_neighbors(data, predict, k = 3):\n",
    "    '''Given the training data (data) and test data (predict) \n",
    "    the function returns the prediction for a point'''\n",
    "    if len(data) > k:\n",
    "        warnings.warn('K is set to a value less than total voting groups!')\n",
    "        \n",
    "    # Calculate distance between the prediction point and each of the poin in a data set\n",
    "    distances = []\n",
    "    for group in data:\n",
    "        for item in data[group]:\n",
    "            euclidean_dist = np.linalg.norm(np.array(item)-np.array(predict))\n",
    "            distances.append([euclidean_dist, group])\n",
    "    votes = [i[1] for i in sorted(distances)[:k]]       \n",
    "    vote_result = Counter(votes).most_common(1)[0][0]\n",
    "    return vote_result\n"
   ]
  },
  {
   "cell_type": "markdown",
   "metadata": {},
   "source": [
    "Now, take the breast cancer data we loaded previously. Note that __\"2\" is for benign tumors; \"4\"  - for malignant tumors__\n"
   ]
  },
  {
   "cell_type": "code",
   "execution_count": 10,
   "metadata": {},
   "outputs": [],
   "source": [
    "full_data = df.astype(float).values.tolist() # convert the entire dataframe to a float type and convert to the list of lists"
   ]
  },
  {
   "cell_type": "code",
   "execution_count": 13,
   "metadata": {},
   "outputs": [
    {
     "data": {
      "text/plain": [
       "[[5.0, 1.0, 1.0, 1.0, 2.0, 1.0, 3.0, 1.0, 1.0, 2.0],\n",
       " [5.0, 4.0, 4.0, 5.0, 7.0, 10.0, 3.0, 2.0, 1.0, 2.0],\n",
       " [3.0, 1.0, 1.0, 1.0, 2.0, 2.0, 3.0, 1.0, 1.0, 2.0],\n",
       " [6.0, 8.0, 8.0, 1.0, 3.0, 4.0, 3.0, 7.0, 1.0, 2.0],\n",
       " [4.0, 1.0, 1.0, 3.0, 2.0, 1.0, 3.0, 1.0, 1.0, 2.0]]"
      ]
     },
     "execution_count": 13,
     "metadata": {},
     "output_type": "execute_result"
    }
   ],
   "source": [
    "full_data[:5]"
   ]
  },
  {
   "cell_type": "markdown",
   "metadata": {},
   "source": [
    "Now, we need to randomly split the set into training and test.\n"
   ]
  },
  {
   "cell_type": "code",
   "execution_count": 17,
   "metadata": {},
   "outputs": [],
   "source": [
    "random.shuffle(full_data)\n",
    "test_size = 0.2\n",
    "train_set = {2:[],4:[]} # create dictionaries that we later populate\n",
    "test_set = {2:[],4:[]}\n",
    "train_data = full_data[:-int(test_size*len(full_data))]\n",
    "test_data = full_data[-int(test_size*len(full_data)):]\n"
   ]
  },
  {
   "cell_type": "code",
   "execution_count": 18,
   "metadata": {},
   "outputs": [
    {
     "data": {
      "text/plain": [
       "699"
      ]
     },
     "execution_count": 18,
     "metadata": {},
     "output_type": "execute_result"
    }
   ],
   "source": [
    "len(full_data)"
   ]
  },
  {
   "cell_type": "code",
   "execution_count": 19,
   "metadata": {},
   "outputs": [
    {
     "data": {
      "text/plain": [
       "560"
      ]
     },
     "execution_count": 19,
     "metadata": {},
     "output_type": "execute_result"
    }
   ],
   "source": [
    "len(train_data)"
   ]
  },
  {
   "cell_type": "code",
   "execution_count": 21,
   "metadata": {},
   "outputs": [
    {
     "data": {
      "text/plain": [
       "139"
      ]
     },
     "execution_count": 21,
     "metadata": {},
     "output_type": "execute_result"
    }
   ],
   "source": [
    "len(test_data)"
   ]
  },
  {
   "cell_type": "code",
   "execution_count": 22,
   "metadata": {},
   "outputs": [],
   "source": [
    "for i in train_data:\n",
    "    train_set[i[-1]].append(i[:-1])\n",
    "\n",
    "for i in test_data:\n",
    "    test_set[i[-1]].append(i[:-1])"
   ]
  },
  {
   "cell_type": "code",
   "execution_count": 23,
   "metadata": {},
   "outputs": [
    {
     "data": {
      "text/plain": [
       "{2: [[4.0, 1.0, 1.0, 1.0, 2.0, 3.0, 1.0, 1.0, 1.0],\n",
       "  [2.0, 1.0, 1.0, 2.0, 2.0, 1.0, 1.0, 1.0, 1.0],\n",
       "  [5.0, 1.0, 1.0, 1.0, 2.0, 1.0, 2.0, 1.0, 1.0],\n",
       "  [1.0, 1.0, 1.0, 1.0, 2.0, 1.0, 2.0, 1.0, 1.0],\n",
       "  [2.0, 1.0, 1.0, 1.0, 2.0, 5.0, 1.0, 1.0, 1.0],\n",
       "  [2.0, 1.0, 1.0, 1.0, 2.0, 1.0, 1.0, 1.0, 1.0],\n",
       "  [3.0, 1.0, 1.0, 1.0, 2.0, 1.0, 2.0, 1.0, 1.0],\n",
       "  [8.0, 4.0, 4.0, 5.0, 4.0, 7.0, 7.0, 8.0, 2.0],\n",
       "  [4.0, 1.0, 1.0, 1.0, 2.0, 1.0, 2.0, 1.0, 1.0],\n",
       "  [6.0, 9.0, 7.0, 5.0, 5.0, 8.0, 4.0, 2.0, 1.0],\n",
       "  [1.0, 1.0, 1.0, 1.0, 3.0, 2.0, 2.0, 1.0, 1.0],\n",
       "  [2.0, 1.0, 1.0, 1.0, 2.0, 1.0, 2.0, 1.0, 1.0],\n",
       "  [5.0, 2.0, 2.0, 2.0, 2.0, 1.0, 1.0, 1.0, 2.0],\n",
       "  [5.0, 1.0, 1.0, 1.0, 2.0, 2.0, 2.0, 1.0, 1.0],\n",
       "  [5.0, 1.0, 1.0, 1.0, 2.0, 1.0, 3.0, 1.0, 1.0],\n",
       "  [1.0, 1.0, 1.0, 3.0, 2.0, 1.0, 1.0, 1.0, 1.0],\n",
       "  [1.0, 1.0, 1.0, 1.0, 2.0, 1.0, 2.0, 3.0, 1.0],\n",
       "  [1.0, 1.0, 4.0, 1.0, 2.0, 1.0, 2.0, 1.0, 1.0],\n",
       "  [1.0, 1.0, 1.0, 1.0, 2.0, 1.0, 1.0, 1.0, 1.0],\n",
       "  [2.0, 1.0, 1.0, 1.0, 2.0, 1.0, 3.0, 1.0, 1.0],\n",
       "  [4.0, 1.0, 1.0, 1.0, 2.0, 1.0, 2.0, 1.0, 1.0],\n",
       "  [3.0, 1.0, 1.0, 1.0, 2.0, 1.0, 3.0, 1.0, 1.0],\n",
       "  [1.0, 1.0, 1.0, 1.0, 2.0, 1.0, 1.0, 1.0, 1.0],\n",
       "  [3.0, 1.0, 1.0, 1.0, 3.0, 1.0, 2.0, 1.0, 1.0],\n",
       "  [1.0, 3.0, 3.0, 2.0, 2.0, 1.0, 7.0, 2.0, 1.0],\n",
       "  [6.0, 1.0, 3.0, 1.0, 2.0, 1.0, 3.0, 1.0, 1.0],\n",
       "  [3.0, 1.0, 1.0, 1.0, 2.0, 1.0, 3.0, 1.0, 1.0],\n",
       "  [1.0, 1.0, 1.0, 1.0, 2.0, -99999.0, 2.0, 1.0, 1.0],\n",
       "  [5.0, 3.0, 2.0, 1.0, 3.0, 1.0, 1.0, 1.0, 1.0],\n",
       "  [5.0, 1.0, 1.0, 1.0, 2.0, 1.0, 3.0, 1.0, 2.0],\n",
       "  [1.0, 1.0, 1.0, 1.0, 1.0, 1.0, 2.0, 1.0, 1.0],\n",
       "  [1.0, 1.0, 1.0, 1.0, 2.0, 1.0, 3.0, 1.0, 1.0],\n",
       "  [5.0, 1.0, 2.0, 1.0, 2.0, 1.0, 1.0, 1.0, 1.0],\n",
       "  [5.0, 1.0, 3.0, 1.0, 2.0, 1.0, 3.0, 1.0, 1.0],\n",
       "  [2.0, 1.0, 1.0, 2.0, 2.0, 1.0, 3.0, 1.0, 1.0],\n",
       "  [5.0, 1.0, 3.0, 1.0, 2.0, 1.0, 2.0, 1.0, 1.0],\n",
       "  [5.0, 1.0, 1.0, 1.0, 2.0, 1.0, 2.0, 2.0, 1.0],\n",
       "  [2.0, 1.0, 1.0, 1.0, 2.0, 1.0, 1.0, 1.0, 1.0],\n",
       "  [4.0, 1.0, 1.0, 1.0, 2.0, 1.0, 1.0, 1.0, 1.0],\n",
       "  [1.0, 1.0, 1.0, 1.0, 2.0, 1.0, 1.0, 1.0, 1.0],\n",
       "  [4.0, 1.0, 1.0, 1.0, 2.0, 1.0, 1.0, 1.0, 1.0],\n",
       "  [5.0, 1.0, 1.0, 1.0, 1.0, 1.0, 3.0, 1.0, 1.0],\n",
       "  [1.0, 2.0, 1.0, 3.0, 2.0, 1.0, 1.0, 2.0, 1.0],\n",
       "  [4.0, 1.0, 1.0, 3.0, 2.0, 1.0, 1.0, 1.0, 1.0],\n",
       "  [1.0, 1.0, 1.0, 1.0, 2.0, 1.0, 1.0, 1.0, 1.0],\n",
       "  [1.0, 1.0, 1.0, 1.0, 2.0, 1.0, 1.0, 1.0, 1.0],\n",
       "  [3.0, 1.0, 1.0, 1.0, 1.0, 1.0, 2.0, 1.0, 1.0],\n",
       "  [1.0, 1.0, 1.0, 1.0, 2.0, 1.0, 2.0, 1.0, 1.0],\n",
       "  [4.0, 4.0, 4.0, 2.0, 2.0, 3.0, 2.0, 1.0, 1.0],\n",
       "  [4.0, 1.0, 1.0, 1.0, 2.0, 1.0, 1.0, 1.0, 1.0],\n",
       "  [4.0, 1.0, 1.0, 1.0, 2.0, 1.0, 3.0, 1.0, 1.0],\n",
       "  [5.0, 1.0, 1.0, 1.0, 2.0, 1.0, 1.0, 1.0, 1.0],\n",
       "  [1.0, 1.0, 2.0, 1.0, 3.0, -99999.0, 1.0, 1.0, 1.0],\n",
       "  [1.0, 1.0, 1.0, 1.0, 2.0, 1.0, 1.0, 1.0, 1.0],\n",
       "  [1.0, 1.0, 1.0, 1.0, 2.0, 1.0, 2.0, 1.0, 1.0],\n",
       "  [5.0, 1.0, 1.0, 1.0, 2.0, 1.0, 1.0, 1.0, 1.0],\n",
       "  [1.0, 1.0, 1.0, 3.0, 2.0, 1.0, 1.0, 1.0, 1.0],\n",
       "  [4.0, 1.0, 1.0, 1.0, 2.0, 1.0, 1.0, 1.0, 1.0],\n",
       "  [1.0, 1.0, 3.0, 1.0, 2.0, -99999.0, 2.0, 1.0, 1.0],\n",
       "  [3.0, 1.0, 1.0, 1.0, 2.0, 1.0, 3.0, 1.0, 1.0],\n",
       "  [3.0, 1.0, 1.0, 1.0, 2.0, 1.0, 1.0, 1.0, 1.0],\n",
       "  [3.0, 1.0, 1.0, 1.0, 2.0, 1.0, 1.0, 1.0, 1.0],\n",
       "  [8.0, 4.0, 6.0, 3.0, 3.0, 1.0, 4.0, 3.0, 1.0],\n",
       "  [4.0, 1.0, 1.0, 1.0, 2.0, 1.0, 1.0, 2.0, 1.0],\n",
       "  [4.0, 1.0, 1.0, 1.0, 2.0, 1.0, 3.0, 6.0, 1.0],\n",
       "  [3.0, 1.0, 1.0, 1.0, 2.0, 1.0, 2.0, 1.0, 1.0],\n",
       "  [3.0, 1.0, 1.0, 1.0, 2.0, 5.0, 5.0, 1.0, 1.0],\n",
       "  [6.0, 1.0, 3.0, 2.0, 2.0, 1.0, 1.0, 1.0, 1.0],\n",
       "  [3.0, 2.0, 2.0, 3.0, 2.0, 3.0, 3.0, 1.0, 1.0],\n",
       "  [1.0, 1.0, 1.0, 1.0, 2.0, 1.0, 2.0, 1.0, 1.0],\n",
       "  [4.0, 1.0, 1.0, 1.0, 2.0, 1.0, 3.0, 2.0, 1.0],\n",
       "  [5.0, 1.0, 1.0, 3.0, 2.0, 1.0, 1.0, 1.0, 1.0],\n",
       "  [2.0, 3.0, 1.0, 1.0, 2.0, 1.0, 2.0, 1.0, 1.0],\n",
       "  [4.0, 1.0, 1.0, 3.0, 2.0, 1.0, 3.0, 1.0, 1.0],\n",
       "  [3.0, 1.0, 2.0, 1.0, 2.0, 1.0, 2.0, 1.0, 1.0],\n",
       "  [4.0, 1.0, 1.0, 1.0, 2.0, 1.0, 2.0, 1.0, 1.0],\n",
       "  [1.0, 1.0, 1.0, 1.0, 5.0, 1.0, 3.0, 1.0, 1.0],\n",
       "  [4.0, 3.0, 3.0, 1.0, 2.0, 1.0, 3.0, 3.0, 1.0],\n",
       "  [3.0, 1.0, 1.0, 1.0, 2.0, 5.0, 1.0, 1.0, 1.0],\n",
       "  [4.0, 1.0, 1.0, 1.0, 2.0, 1.0, 1.0, 1.0, 1.0],\n",
       "  [3.0, 2.0, 2.0, 2.0, 2.0, 1.0, 4.0, 2.0, 1.0],\n",
       "  [1.0, 1.0, 3.0, 1.0, 2.0, 1.0, 1.0, 1.0, 1.0],\n",
       "  [4.0, 1.0, 2.0, 1.0, 2.0, 1.0, 2.0, 1.0, 1.0],\n",
       "  [1.0, 1.0, 1.0, 1.0, 1.0, 1.0, 3.0, 1.0, 1.0],\n",
       "  [5.0, 1.0, 1.0, 1.0, 2.0, 1.0, 3.0, 1.0, 1.0],\n",
       "  [6.0, 3.0, 3.0, 3.0, 3.0, 2.0, 6.0, 1.0, 1.0],\n",
       "  [4.0, 1.0, 2.0, 1.0, 2.0, 1.0, 3.0, 1.0, 1.0],\n",
       "  [5.0, 1.0, 3.0, 3.0, 2.0, 2.0, 2.0, 3.0, 1.0],\n",
       "  [3.0, 1.0, 1.0, 1.0, 2.0, 1.0, 2.0, 1.0, 1.0],\n",
       "  [1.0, 3.0, 1.0, 2.0, 2.0, 2.0, 5.0, 3.0, 2.0],\n",
       "  [2.0, 1.0, 1.0, 1.0, 2.0, 1.0, 1.0, 1.0, 1.0],\n",
       "  [1.0, 2.0, 2.0, 1.0, 2.0, 1.0, 2.0, 1.0, 1.0],\n",
       "  [2.0, 1.0, 1.0, 1.0, 2.0, 1.0, 1.0, 1.0, 1.0],\n",
       "  [2.0, 1.0, 1.0, 1.0, 2.0, 1.0, 1.0, 1.0, 1.0],\n",
       "  [1.0, 1.0, 1.0, 1.0, 2.0, 1.0, 2.0, 1.0, 1.0],\n",
       "  [1.0, 1.0, 1.0, 1.0, 1.0, 1.0, 2.0, 1.0, 1.0],\n",
       "  [1.0, 1.0, 1.0, 1.0, 2.0, 1.0, 3.0, 1.0, 1.0],\n",
       "  [5.0, 1.0, 1.0, 1.0, 2.0, 1.0, 2.0, 2.0, 1.0],\n",
       "  [1.0, 1.0, 1.0, 1.0, 1.0, -99999.0, 1.0, 1.0, 1.0],\n",
       "  [3.0, 1.0, 1.0, 1.0, 2.0, 1.0, 2.0, 1.0, 1.0],\n",
       "  [4.0, 1.0, 4.0, 1.0, 2.0, 1.0, 1.0, 1.0, 1.0],\n",
       "  [1.0, 1.0, 3.0, 1.0, 2.0, 1.0, 1.0, 1.0, 1.0],\n",
       "  [5.0, 1.0, 1.0, 1.0, 2.0, 1.0, 2.0, 1.0, 1.0],\n",
       "  [3.0, 1.0, 1.0, 1.0, 2.0, 1.0, 2.0, 1.0, 1.0],\n",
       "  [1.0, 1.0, 3.0, 2.0, 2.0, 1.0, 3.0, 1.0, 1.0],\n",
       "  [1.0, 1.0, 1.0, 1.0, 2.0, 1.0, 1.0, 1.0, 1.0],\n",
       "  [3.0, 1.0, 1.0, 1.0, 2.0, 1.0, 1.0, 1.0, 1.0],\n",
       "  [3.0, 1.0, 1.0, 1.0, 2.0, 1.0, 2.0, 1.0, 1.0],\n",
       "  [5.0, 2.0, 2.0, 2.0, 2.0, 2.0, 3.0, 2.0, 2.0],\n",
       "  [1.0, 1.0, 1.0, 1.0, 2.0, 1.0, 3.0, 1.0, 1.0],\n",
       "  [6.0, 1.0, 1.0, 3.0, 2.0, 1.0, 1.0, 1.0, 1.0],\n",
       "  [3.0, 1.0, 1.0, 1.0, 2.0, 1.0, 2.0, 1.0, 1.0],\n",
       "  [2.0, 1.0, 1.0, 2.0, 3.0, 1.0, 2.0, 1.0, 1.0],\n",
       "  [3.0, 2.0, 2.0, 1.0, 2.0, 1.0, 2.0, 3.0, 1.0],\n",
       "  [1.0, 1.0, 1.0, 3.0, 1.0, 3.0, 1.0, 1.0, 1.0],\n",
       "  [3.0, 2.0, 2.0, 1.0, 4.0, 3.0, 2.0, 1.0, 1.0],\n",
       "  [2.0, 1.0, 1.0, 1.0, 2.0, 1.0, 1.0, 1.0, 1.0],\n",
       "  [1.0, 1.0, 1.0, 1.0, 2.0, 1.0, 1.0, 1.0, 1.0],\n",
       "  [3.0, 1.0, 1.0, 1.0, 1.0, 1.0, 2.0, 1.0, 1.0],\n",
       "  [2.0, 1.0, 1.0, 1.0, 2.0, 1.0, 2.0, 1.0, 1.0],\n",
       "  [3.0, 1.0, 1.0, 1.0, 2.0, 1.0, 1.0, 1.0, 1.0],\n",
       "  [5.0, 1.0, 1.0, 1.0, 2.0, 1.0, 2.0, 1.0, 1.0],\n",
       "  [4.0, 1.0, 1.0, 1.0, 2.0, 1.0, 3.0, 1.0, 1.0],\n",
       "  [1.0, 1.0, 1.0, 1.0, 4.0, 3.0, 1.0, 1.0, 1.0],\n",
       "  [1.0, 1.0, 1.0, 1.0, 2.0, 1.0, 3.0, 2.0, 1.0],\n",
       "  [2.0, 3.0, 1.0, 1.0, 3.0, 1.0, 1.0, 1.0, 1.0],\n",
       "  [1.0, 1.0, 1.0, 1.0, 2.0, 1.0, 1.0, 1.0, 1.0],\n",
       "  [1.0, 1.0, 1.0, 1.0, 2.0, 1.0, 2.0, 1.0, 1.0],\n",
       "  [4.0, 1.0, 1.0, 1.0, 2.0, 1.0, 1.0, 1.0, 1.0],\n",
       "  [5.0, 1.0, 1.0, 6.0, 3.0, 1.0, 2.0, 1.0, 1.0],\n",
       "  [3.0, 1.0, 1.0, 2.0, 2.0, 1.0, 1.0, 1.0, 1.0],\n",
       "  [3.0, 1.0, 1.0, 1.0, 3.0, 2.0, 1.0, 1.0, 1.0],\n",
       "  [2.0, 1.0, 1.0, 1.0, 2.0, 1.0, 1.0, 1.0, 1.0],\n",
       "  [4.0, 1.0, 1.0, 1.0, 2.0, 1.0, 1.0, 1.0, 1.0],\n",
       "  [2.0, 1.0, 2.0, 1.0, 2.0, 1.0, 3.0, 1.0, 1.0],\n",
       "  [1.0, 1.0, 1.0, 1.0, 2.0, 1.0, 1.0, 1.0, 1.0],\n",
       "  [1.0, 1.0, 1.0, 1.0, 2.0, 1.0, 1.0, 1.0, 1.0],\n",
       "  [5.0, 1.0, 2.0, 1.0, 2.0, 1.0, 3.0, 1.0, 1.0],\n",
       "  [5.0, 1.0, 1.0, 1.0, 2.0, 1.0, 2.0, 1.0, 1.0],\n",
       "  [1.0, 1.0, 1.0, 1.0, 1.0, 1.0, 2.0, 1.0, 1.0],\n",
       "  [1.0, 1.0, 1.0, 1.0, 2.0, 1.0, 2.0, 1.0, 1.0],\n",
       "  [1.0, 1.0, 1.0, 1.0, 2.0, 1.0, 1.0, 1.0, 1.0],\n",
       "  [1.0, 1.0, 1.0, 2.0, 2.0, 1.0, 2.0, 1.0, 1.0],\n",
       "  [6.0, 2.0, 3.0, 1.0, 2.0, 1.0, 1.0, 1.0, 1.0],\n",
       "  [5.0, 1.0, 1.0, 3.0, 4.0, 1.0, 3.0, 2.0, 1.0],\n",
       "  [5.0, 1.0, 4.0, 1.0, 2.0, 1.0, 3.0, 2.0, 1.0],\n",
       "  [3.0, 1.0, 3.0, 1.0, 2.0, -99999.0, 2.0, 1.0, 1.0],\n",
       "  [1.0, 1.0, 1.0, 1.0, 2.0, 1.0, 1.0, 1.0, 1.0],\n",
       "  [4.0, 2.0, 1.0, 1.0, 2.0, 2.0, 3.0, 1.0, 1.0],\n",
       "  [4.0, 2.0, 2.0, 1.0, 2.0, 1.0, 2.0, 1.0, 1.0],\n",
       "  [6.0, 8.0, 8.0, 1.0, 3.0, 4.0, 3.0, 7.0, 1.0],\n",
       "  [3.0, 3.0, 2.0, 1.0, 3.0, 1.0, 3.0, 6.0, 1.0],\n",
       "  [1.0, 1.0, 1.0, 1.0, 1.0, 1.0, 3.0, 1.0, 1.0],\n",
       "  [6.0, 1.0, 1.0, 1.0, 1.0, 1.0, 1.0, 1.0, 1.0],\n",
       "  [2.0, 1.0, 1.0, 1.0, 2.0, 1.0, 3.0, 1.0, 1.0],\n",
       "  [1.0, 1.0, 1.0, 1.0, 2.0, 1.0, 1.0, 1.0, 1.0],\n",
       "  [1.0, 1.0, 1.0, 1.0, 10.0, 1.0, 1.0, 1.0, 1.0],\n",
       "  [4.0, 1.0, 1.0, 1.0, 2.0, 1.0, 2.0, 1.0, 1.0],\n",
       "  [1.0, 1.0, 1.0, 1.0, 2.0, 1.0, 1.0, 1.0, 1.0],\n",
       "  [6.0, 6.0, 6.0, 9.0, 6.0, -99999.0, 7.0, 8.0, 1.0],\n",
       "  [1.0, 1.0, 1.0, 1.0, 2.0, 1.0, 3.0, 1.0, 1.0],\n",
       "  [6.0, 1.0, 1.0, 1.0, 2.0, 1.0, 2.0, 1.0, 1.0],\n",
       "  [5.0, 1.0, 1.0, 1.0, 2.0, 1.0, 3.0, 1.0, 1.0],\n",
       "  [5.0, 3.0, 2.0, 4.0, 2.0, 1.0, 1.0, 1.0, 1.0],\n",
       "  [5.0, 1.0, 1.0, 3.0, 2.0, 1.0, 1.0, 1.0, 1.0],\n",
       "  [4.0, 2.0, 1.0, 1.0, 2.0, 1.0, 2.0, 1.0, 1.0],\n",
       "  [1.0, 1.0, 1.0, 1.0, 2.0, 1.0, 1.0, 1.0, 1.0],\n",
       "  [1.0, 1.0, 1.0, 1.0, 2.0, 5.0, 1.0, 1.0, 1.0],\n",
       "  [5.0, 1.0, 2.0, 1.0, 2.0, 1.0, 2.0, 1.0, 1.0],\n",
       "  [4.0, 1.0, 1.0, 1.0, 2.0, 1.0, 2.0, 1.0, 1.0],\n",
       "  [1.0, 1.0, 1.0, 2.0, 1.0, 3.0, 1.0, 1.0, 7.0],\n",
       "  [3.0, 1.0, 1.0, 1.0, 2.0, 1.0, 2.0, 1.0, 1.0],\n",
       "  [4.0, 1.0, 1.0, 3.0, 1.0, 1.0, 2.0, 1.0, 1.0],\n",
       "  [3.0, 1.0, 1.0, 1.0, 2.0, 1.0, 2.0, 1.0, 1.0],\n",
       "  [3.0, 1.0, 1.0, 1.0, 2.0, 1.0, 3.0, 1.0, 1.0],\n",
       "  [5.0, 1.0, 1.0, 2.0, 2.0, 1.0, 2.0, 1.0, 1.0],\n",
       "  [1.0, 1.0, 1.0, 1.0, 2.0, 1.0, 3.0, 1.0, 1.0],\n",
       "  [4.0, 2.0, 2.0, 1.0, 2.0, 1.0, 2.0, 1.0, 1.0],\n",
       "  [1.0, 1.0, 1.0, 1.0, 2.0, 1.0, 2.0, 1.0, 1.0],\n",
       "  [4.0, 1.0, 1.0, 1.0, 2.0, 1.0, 2.0, 1.0, 1.0],\n",
       "  [3.0, 1.0, 1.0, 1.0, 2.0, 4.0, 1.0, 1.0, 1.0],\n",
       "  [5.0, 1.0, 1.0, 1.0, 2.0, 1.0, 2.0, 1.0, 1.0],\n",
       "  [1.0, 1.0, 1.0, 1.0, 2.0, 1.0, 1.0, 1.0, 1.0],\n",
       "  [5.0, 1.0, 1.0, 1.0, 2.0, 1.0, 1.0, 1.0, 1.0],\n",
       "  [3.0, 1.0, 1.0, 1.0, 2.0, 1.0, 2.0, 1.0, 1.0],\n",
       "  [4.0, 1.0, 1.0, 2.0, 2.0, 1.0, 2.0, 1.0, 1.0],\n",
       "  [5.0, 1.0, 1.0, 4.0, 2.0, 1.0, 3.0, 1.0, 1.0],\n",
       "  [3.0, 3.0, 1.0, 1.0, 2.0, 1.0, 1.0, 1.0, 1.0],\n",
       "  [2.0, 3.0, 2.0, 2.0, 2.0, 2.0, 3.0, 1.0, 1.0],\n",
       "  [5.0, 1.0, 1.0, 1.0, 2.0, 1.0, 2.0, 1.0, 1.0],\n",
       "  [1.0, 1.0, 1.0, 1.0, 2.0, 2.0, 2.0, 1.0, 1.0],\n",
       "  [2.0, 1.0, 1.0, 1.0, 2.0, 1.0, 2.0, 1.0, 1.0],\n",
       "  [3.0, 1.0, 1.0, 1.0, 2.0, 1.0, 1.0, 1.0, 1.0],\n",
       "  [1.0, 1.0, 1.0, 1.0, 2.0, 1.0, 2.0, 1.0, 1.0],\n",
       "  [5.0, 1.0, 1.0, 1.0, 2.0, 1.0, 1.0, 1.0, 1.0],\n",
       "  [4.0, 1.0, 1.0, 1.0, 2.0, 1.0, 1.0, 1.0, 1.0],\n",
       "  [3.0, 3.0, 2.0, 2.0, 3.0, 1.0, 1.0, 2.0, 3.0],\n",
       "  [3.0, 1.0, 4.0, 1.0, 2.0, 1.0, 1.0, 1.0, 1.0],\n",
       "  [1.0, 1.0, 1.0, 1.0, 2.0, 1.0, 2.0, 1.0, 1.0],\n",
       "  [3.0, 1.0, 1.0, 1.0, 2.0, 1.0, 1.0, 1.0, 1.0],\n",
       "  [1.0, 1.0, 1.0, 1.0, 2.0, 1.0, 2.0, 1.0, 1.0],\n",
       "  [5.0, 1.0, 1.0, 3.0, 2.0, 1.0, 1.0, 1.0, 1.0],\n",
       "  [5.0, 7.0, 7.0, 1.0, 5.0, 8.0, 3.0, 4.0, 1.0],\n",
       "  [3.0, 1.0, 1.0, 1.0, 2.0, 1.0, 2.0, 1.0, 1.0],\n",
       "  [3.0, 1.0, 1.0, 1.0, 2.0, 2.0, 7.0, 1.0, 1.0],\n",
       "  [6.0, 1.0, 1.0, 3.0, 2.0, 1.0, 1.0, 1.0, 1.0],\n",
       "  [1.0, 1.0, 1.0, 1.0, 1.0, 1.0, 1.0, 1.0, 1.0],\n",
       "  [3.0, 1.0, 1.0, 3.0, 2.0, 1.0, 1.0, 1.0, 1.0],\n",
       "  [1.0, 1.0, 3.0, 1.0, 2.0, 1.0, 2.0, 1.0, 1.0],\n",
       "  [2.0, 1.0, 1.0, 1.0, 2.0, 1.0, 2.0, 2.0, 1.0],\n",
       "  [5.0, 1.0, 2.0, 1.0, 2.0, 1.0, 1.0, 1.0, 1.0],\n",
       "  [6.0, 2.0, 1.0, 1.0, 1.0, 1.0, 7.0, 1.0, 1.0],\n",
       "  [1.0, 2.0, 2.0, 1.0, 2.0, 1.0, 1.0, 1.0, 1.0],\n",
       "  [5.0, 4.0, 4.0, 5.0, 7.0, 10.0, 3.0, 2.0, 1.0],\n",
       "  [4.0, 2.0, 1.0, 1.0, 2.0, 1.0, 1.0, 1.0, 1.0],\n",
       "  [1.0, 1.0, 2.0, 1.0, 2.0, 2.0, 4.0, 2.0, 1.0],\n",
       "  [8.0, 3.0, 3.0, 1.0, 2.0, 2.0, 3.0, 2.0, 1.0],\n",
       "  [3.0, 2.0, 2.0, 2.0, 2.0, 1.0, 3.0, 2.0, 1.0],\n",
       "  [5.0, 1.0, 1.0, 1.0, 2.0, 2.0, 3.0, 3.0, 1.0],\n",
       "  [1.0, 1.0, 1.0, 1.0, 1.0, 1.0, 3.0, 1.0, 1.0],\n",
       "  [5.0, 1.0, 1.0, 1.0, 2.0, 1.0, 3.0, 1.0, 1.0],\n",
       "  [3.0, 1.0, 1.0, 1.0, 2.0, 1.0, 3.0, 2.0, 1.0],\n",
       "  [4.0, 1.0, 1.0, 2.0, 2.0, 1.0, 2.0, 1.0, 1.0],\n",
       "  [4.0, 1.0, 2.0, 1.0, 2.0, 1.0, 1.0, 1.0, 1.0],\n",
       "  [3.0, 4.0, 5.0, 3.0, 7.0, 3.0, 4.0, 6.0, 1.0],\n",
       "  [1.0, 1.0, 1.0, 1.0, 2.0, 5.0, 5.0, 1.0, 1.0],\n",
       "  [3.0, 1.0, 1.0, 1.0, 1.0, 1.0, 2.0, 1.0, 1.0],\n",
       "  [2.0, 1.0, 1.0, 1.0, 3.0, 1.0, 2.0, 1.0, 1.0],\n",
       "  [5.0, 1.0, 1.0, 2.0, 1.0, 1.0, 2.0, 1.0, 1.0],\n",
       "  [5.0, 1.0, 1.0, 3.0, 2.0, 1.0, 1.0, 1.0, 1.0],\n",
       "  [5.0, 1.0, 2.0, 1.0, 2.0, 1.0, 3.0, 1.0, 1.0],\n",
       "  [2.0, 1.0, 1.0, 1.0, 2.0, 1.0, 3.0, 1.0, 1.0],\n",
       "  [4.0, 1.0, 1.0, 1.0, 2.0, 1.0, 2.0, 1.0, 1.0],\n",
       "  [1.0, 1.0, 1.0, 1.0, 2.0, 1.0, 3.0, 1.0, 1.0],\n",
       "  [2.0, 3.0, 1.0, 1.0, 5.0, 1.0, 1.0, 1.0, 1.0],\n",
       "  [5.0, 2.0, 2.0, 2.0, 2.0, 1.0, 2.0, 2.0, 1.0],\n",
       "  [1.0, 1.0, 3.0, 1.0, 1.0, 1.0, 2.0, 1.0, 1.0],\n",
       "  [4.0, 1.0, 3.0, 3.0, 2.0, 1.0, 1.0, 1.0, 1.0],\n",
       "  [5.0, 1.0, 1.0, 1.0, 2.0, 1.0, 3.0, 1.0, 1.0],\n",
       "  [3.0, 1.0, 1.0, 1.0, 1.0, 1.0, 2.0, 1.0, 1.0],\n",
       "  [1.0, 1.0, 1.0, 1.0, 2.0, 1.0, 1.0, 1.0, 1.0],\n",
       "  [2.0, 1.0, 1.0, 1.0, 2.0, 1.0, 3.0, 1.0, 1.0],\n",
       "  [3.0, 1.0, 1.0, 1.0, 2.0, 1.0, 2.0, 1.0, 1.0],\n",
       "  [2.0, 1.0, 1.0, 1.0, 2.0, 1.0, 2.0, 1.0, 1.0],\n",
       "  [4.0, 1.0, 1.0, 1.0, 3.0, 1.0, 2.0, 2.0, 1.0],\n",
       "  [1.0, 2.0, 2.0, 1.0, 2.0, 1.0, 1.0, 1.0, 1.0],\n",
       "  [3.0, 1.0, 4.0, 1.0, 2.0, -99999.0, 3.0, 1.0, 1.0],\n",
       "  [5.0, 3.0, 4.0, 3.0, 4.0, 5.0, 4.0, 7.0, 1.0],\n",
       "  [5.0, 2.0, 2.0, 2.0, 3.0, 1.0, 1.0, 3.0, 1.0],\n",
       "  [5.0, 3.0, 4.0, 1.0, 4.0, 1.0, 3.0, 1.0, 1.0],\n",
       "  [1.0, 1.0, 1.0, 1.0, 2.0, 1.0, 3.0, 1.0, 1.0],\n",
       "  [6.0, 1.0, 1.0, 1.0, 2.0, 1.0, 3.0, 1.0, 1.0],\n",
       "  [3.0, 1.0, 1.0, 3.0, 2.0, 1.0, 2.0, 1.0, 1.0],\n",
       "  [1.0, 1.0, 1.0, 1.0, 1.0, 1.0, 3.0, 1.0, 1.0],\n",
       "  [1.0, 1.0, 1.0, 1.0, 1.0, 1.0, 1.0, 1.0, 1.0],\n",
       "  [5.0, 4.0, 3.0, 1.0, 2.0, -99999.0, 2.0, 3.0, 1.0],\n",
       "  [1.0, 1.0, 1.0, 1.0, 1.0, 1.0, 1.0, 1.0, 1.0],\n",
       "  [1.0, 1.0, 2.0, 2.0, 2.0, 1.0, 3.0, 1.0, 1.0],\n",
       "  [1.0, 1.0, 1.0, 1.0, 1.0, 1.0, 3.0, 1.0, 1.0],\n",
       "  [5.0, 1.0, 1.0, 1.0, 2.0, -99999.0, 3.0, 1.0, 1.0],\n",
       "  [1.0, 1.0, 1.0, 1.0, 2.0, 1.0, 3.0, 1.0, 1.0],\n",
       "  [3.0, 1.0, 1.0, 1.0, 2.0, 1.0, 2.0, 1.0, 2.0],\n",
       "  [1.0, 1.0, 1.0, 1.0, 2.0, 1.0, 2.0, 1.0, 1.0],\n",
       "  [3.0, 1.0, 1.0, 1.0, 2.0, 1.0, 1.0, 1.0, 1.0],\n",
       "  [4.0, 3.0, 2.0, 1.0, 3.0, 1.0, 2.0, 1.0, 1.0],\n",
       "  [1.0, 1.0, 1.0, 1.0, 2.0, 4.0, 1.0, 1.0, 1.0],\n",
       "  [3.0, 1.0, 1.0, 1.0, 2.0, 1.0, 3.0, 1.0, 1.0],\n",
       "  [3.0, 1.0, 1.0, 1.0, 3.0, 1.0, 2.0, 1.0, 1.0],\n",
       "  [3.0, 2.0, 1.0, 1.0, 2.0, 2.0, 3.0, 1.0, 1.0],\n",
       "  [1.0, 1.0, 1.0, 1.0, 1.0, -99999.0, 2.0, 1.0, 1.0],\n",
       "  [4.0, 1.0, 1.0, 2.0, 2.0, 1.0, 1.0, 1.0, 1.0],\n",
       "  [3.0, 1.0, 2.0, 1.0, 2.0, 1.0, 3.0, 1.0, 1.0],\n",
       "  [1.0, 1.0, 1.0, 1.0, 2.0, 1.0, 2.0, 1.0, 2.0],\n",
       "  [2.0, 1.0, 1.0, 1.0, 2.0, 1.0, 1.0, 1.0, 1.0],\n",
       "  [3.0, 1.0, 1.0, 2.0, 2.0, 1.0, 1.0, 1.0, 1.0],\n",
       "  [3.0, 1.0, 1.0, 1.0, 2.0, -99999.0, 3.0, 1.0, 1.0],\n",
       "  [1.0, 1.0, 1.0, 1.0, 2.0, 1.0, 3.0, 1.0, 1.0],\n",
       "  [4.0, 1.0, 1.0, 1.0, 2.0, 1.0, 1.0, 1.0, 1.0],\n",
       "  [1.0, 1.0, 1.0, 1.0, 2.0, 1.0, 3.0, 1.0, 1.0],\n",
       "  [2.0, 1.0, 1.0, 1.0, 2.0, 1.0, 1.0, 1.0, 5.0],\n",
       "  [3.0, 3.0, 2.0, 6.0, 3.0, 3.0, 3.0, 5.0, 1.0],\n",
       "  [3.0, 1.0, 1.0, 1.0, 2.0, 1.0, 2.0, 1.0, 1.0],\n",
       "  [5.0, 1.0, 3.0, 1.0, 2.0, 1.0, 1.0, 1.0, 1.0],\n",
       "  [1.0, 1.0, 1.0, 1.0, 2.0, 1.0, 2.0, 1.0, 1.0],\n",
       "  [5.0, 1.0, 1.0, 1.0, 2.0, 1.0, 1.0, 1.0, 1.0],\n",
       "  [4.0, 1.0, 1.0, 1.0, 2.0, 1.0, 3.0, 1.0, 1.0],\n",
       "  [4.0, 1.0, 1.0, 1.0, 3.0, 1.0, 1.0, 1.0, 1.0],\n",
       "  [4.0, 1.0, 1.0, 1.0, 2.0, 1.0, 3.0, 1.0, 1.0],\n",
       "  [4.0, 4.0, 4.0, 4.0, 6.0, 5.0, 7.0, 3.0, 1.0],\n",
       "  [3.0, 1.0, 1.0, 1.0, 2.0, 1.0, 3.0, 1.0, 1.0],\n",
       "  [5.0, 1.0, 1.0, 1.0, 2.0, 1.0, 1.0, 1.0, 1.0],\n",
       "  [1.0, 1.0, 2.0, 1.0, 2.0, 1.0, 2.0, 1.0, 1.0],\n",
       "  [1.0, 1.0, 1.0, 1.0, 1.0, 1.0, 3.0, 1.0, 1.0],\n",
       "  [1.0, 1.0, 1.0, 1.0, 2.0, 1.0, 1.0, 1.0, 1.0],\n",
       "  [3.0, 2.0, 2.0, 3.0, 2.0, 1.0, 1.0, 1.0, 1.0],\n",
       "  [5.0, 1.0, 1.0, 1.0, 2.0, 1.0, 1.0, 1.0, 1.0],\n",
       "  [1.0, 1.0, 1.0, 1.0, 1.0, 1.0, 2.0, 1.0, 1.0],\n",
       "  [6.0, 3.0, 3.0, 5.0, 3.0, 10.0, 3.0, 5.0, 3.0],\n",
       "  [5.0, 1.0, 1.0, 1.0, 2.0, 1.0, 2.0, 1.0, 1.0],\n",
       "  [1.0, 1.0, 1.0, 1.0, 2.0, 1.0, 2.0, 1.0, 1.0],\n",
       "  [3.0, 1.0, 1.0, 4.0, 3.0, 1.0, 2.0, 2.0, 1.0],\n",
       "  [4.0, 4.0, 2.0, 1.0, 2.0, 5.0, 2.0, 1.0, 2.0],\n",
       "  [4.0, 1.0, 1.0, 1.0, 1.0, 1.0, 2.0, 1.0, 1.0],\n",
       "  [2.0, 1.0, 1.0, 2.0, 2.0, 1.0, 3.0, 1.0, 1.0],\n",
       "  [5.0, 1.0, 2.0, 1.0, 2.0, 1.0, 1.0, 1.0, 1.0],\n",
       "  [4.0, 1.0, 1.0, 1.0, 2.0, 1.0, 2.0, 1.0, 1.0],\n",
       "  [2.0, 1.0, 1.0, 1.0, 2.0, 1.0, 3.0, 1.0, 1.0],\n",
       "  [2.0, 1.0, 1.0, 1.0, 2.0, 1.0, 3.0, 1.0, 1.0],\n",
       "  [4.0, 1.0, 1.0, 1.0, 2.0, 1.0, 2.0, 1.0, 1.0],\n",
       "  [2.0, 1.0, 1.0, 1.0, 2.0, 1.0, 3.0, 1.0, 1.0],\n",
       "  [5.0, 3.0, 3.0, 2.0, 3.0, 1.0, 3.0, 1.0, 1.0],\n",
       "  [3.0, 2.0, 1.0, 1.0, 1.0, 1.0, 2.0, 1.0, 1.0],\n",
       "  [3.0, 1.0, 1.0, 1.0, 2.0, 1.0, 1.0, 1.0, 1.0],\n",
       "  [5.0, 2.0, 2.0, 4.0, 2.0, 4.0, 1.0, 1.0, 1.0],\n",
       "  [3.0, 1.0, 1.0, 1.0, 2.0, 1.0, 1.0, 1.0, 1.0],\n",
       "  [1.0, 1.0, 1.0, 1.0, 2.0, 1.0, 1.0, 1.0, 8.0],\n",
       "  [5.0, 3.0, 1.0, 1.0, 2.0, 1.0, 1.0, 1.0, 1.0],\n",
       "  [3.0, 2.0, 1.0, 1.0, 2.0, 1.0, 2.0, 2.0, 1.0],\n",
       "  [3.0, 1.0, 1.0, 1.0, 2.0, 1.0, 2.0, 3.0, 1.0],\n",
       "  [1.0, 1.0, 1.0, 1.0, 1.0, 1.0, 2.0, 1.0, 1.0],\n",
       "  [1.0, 1.0, 1.0, 1.0, 2.0, 1.0, 3.0, 1.0, 1.0],\n",
       "  [5.0, 1.0, 1.0, 1.0, 2.0, 1.0, 2.0, 2.0, 1.0],\n",
       "  [1.0, 1.0, 1.0, 1.0, 2.0, 1.0, 1.0, 1.0, 1.0],\n",
       "  [5.0, 3.0, 1.0, 2.0, 2.0, 1.0, 2.0, 1.0, 1.0],\n",
       "  [3.0, 1.0, 1.0, 1.0, 2.0, 1.0, 3.0, 1.0, 1.0],\n",
       "  [5.0, 3.0, 6.0, 1.0, 2.0, 1.0, 1.0, 1.0, 1.0],\n",
       "  [1.0, 1.0, 1.0, 1.0, 2.0, 5.0, 1.0, 1.0, 1.0],\n",
       "  [2.0, 1.0, 1.0, 1.0, 2.0, 1.0, 3.0, 1.0, 1.0],\n",
       "  [3.0, 1.0, 1.0, 1.0, 2.0, 1.0, 2.0, 1.0, 1.0],\n",
       "  [1.0, 1.0, 1.0, 1.0, 2.0, 1.0, 3.0, 1.0, 1.0],\n",
       "  [3.0, 1.0, 1.0, 1.0, 2.0, 1.0, 1.0, 1.0, 1.0],\n",
       "  [2.0, 1.0, 1.0, 1.0, 1.0, 1.0, 3.0, 1.0, 1.0],\n",
       "  [1.0, 1.0, 3.0, 1.0, 2.0, 1.0, 1.0, 1.0, 1.0],\n",
       "  [4.0, 1.0, 1.0, 1.0, 2.0, 1.0, 3.0, 1.0, 1.0],\n",
       "  [5.0, 1.0, 1.0, 1.0, 2.0, 1.0, 3.0, 2.0, 1.0],\n",
       "  [1.0, 1.0, 1.0, 2.0, 2.0, 1.0, 3.0, 1.0, 1.0],\n",
       "  [1.0, 1.0, 1.0, 1.0, 2.0, 1.0, 2.0, 1.0, 1.0],\n",
       "  [7.0, 1.0, 2.0, 3.0, 2.0, 1.0, 2.0, 1.0, 1.0],\n",
       "  [1.0, 1.0, 1.0, 1.0, 2.0, 1.0, 1.0, 1.0, 1.0],\n",
       "  [5.0, 1.0, 1.0, 1.0, 2.0, 1.0, 1.0, 1.0, 1.0],\n",
       "  [2.0, 1.0, 1.0, 1.0, 1.0, 1.0, 1.0, 1.0, 1.0],\n",
       "  [1.0, 1.0, 1.0, 1.0, 1.0, -99999.0, 2.0, 1.0, 1.0],\n",
       "  [4.0, 6.0, 5.0, 6.0, 7.0, -99999.0, 4.0, 9.0, 1.0],\n",
       "  [1.0, 1.0, 1.0, 1.0, 2.0, 1.0, 2.0, 1.0, 1.0],\n",
       "  [1.0, 1.0, 1.0, 1.0, 2.0, 1.0, 3.0, 1.0, 1.0],\n",
       "  [3.0, 1.0, 1.0, 3.0, 1.0, 1.0, 3.0, 1.0, 1.0],\n",
       "  [2.0, 1.0, 1.0, 1.0, 1.0, 1.0, 2.0, 1.0, 1.0],\n",
       "  [1.0, 2.0, 3.0, 1.0, 2.0, 1.0, 2.0, 1.0, 1.0],\n",
       "  [4.0, 1.0, 1.0, 1.0, 2.0, 1.0, 3.0, 1.0, 1.0],\n",
       "  [3.0, 1.0, 1.0, 1.0, 2.0, 1.0, 3.0, 1.0, 1.0],\n",
       "  [1.0, 1.0, 1.0, 1.0, 2.0, 1.0, 1.0, 1.0, 1.0],\n",
       "  [4.0, 1.0, 1.0, 1.0, 2.0, 3.0, 2.0, 1.0, 1.0],\n",
       "  [5.0, 1.0, 2.0, 1.0, 2.0, 1.0, 3.0, 1.0, 1.0],\n",
       "  [1.0, 1.0, 1.0, 1.0, 2.0, 1.0, 1.0, 1.0, 1.0],\n",
       "  [3.0, 1.0, 1.0, 1.0, 1.0, 1.0, 2.0, 1.0, 1.0],\n",
       "  [5.0, 1.0, 1.0, 1.0, 2.0, 1.0, 3.0, 1.0, 1.0],\n",
       "  [3.0, 1.0, 1.0, 1.0, 2.0, 2.0, 3.0, 1.0, 1.0],\n",
       "  [5.0, 2.0, 2.0, 2.0, 1.0, 1.0, 2.0, 1.0, 1.0],\n",
       "  [5.0, 1.0, 1.0, 2.0, 2.0, 2.0, 3.0, 1.0, 1.0],\n",
       "  [2.0, 2.0, 2.0, 1.0, 1.0, 1.0, 7.0, 1.0, 1.0],\n",
       "  [2.0, 1.0, 1.0, 1.0, 2.0, 1.0, 1.0, 1.0, 1.0],\n",
       "  [3.0, 1.0, 2.0, 1.0, 2.0, 1.0, 2.0, 1.0, 1.0],\n",
       "  [1.0, 1.0, 1.0, 1.0, 2.0, 1.0, 2.0, 1.0, 1.0],\n",
       "  [8.0, 2.0, 1.0, 1.0, 5.0, 1.0, 1.0, 1.0, 1.0],\n",
       "  [1.0, 1.0, 1.0, 1.0, 2.0, 1.0, 1.0, 1.0, 1.0],\n",
       "  [3.0, 1.0, 1.0, 1.0, 2.0, 1.0, 2.0, 1.0, 1.0],\n",
       "  [1.0, 1.0, 2.0, 1.0, 2.0, 1.0, 2.0, 1.0, 1.0]],\n",
       " 4: [[10.0, 3.0, 3.0, 10.0, 2.0, 10.0, 7.0, 3.0, 3.0],\n",
       "  [8.0, 7.0, 8.0, 5.0, 10.0, 10.0, 7.0, 2.0, 1.0],\n",
       "  [5.0, 3.0, 5.0, 5.0, 3.0, 3.0, 4.0, 10.0, 1.0],\n",
       "  [5.0, 10.0, 10.0, 3.0, 8.0, 1.0, 5.0, 10.0, 3.0],\n",
       "  [7.0, 8.0, 8.0, 7.0, 3.0, 10.0, 7.0, 2.0, 3.0],\n",
       "  [7.0, 5.0, 10.0, 10.0, 10.0, 10.0, 4.0, 10.0, 3.0],\n",
       "  [5.0, 7.0, 4.0, 1.0, 6.0, 1.0, 7.0, 10.0, 3.0],\n",
       "  [10.0, 10.0, 10.0, 10.0, 6.0, 10.0, 8.0, 1.0, 5.0],\n",
       "  [10.0, 10.0, 10.0, 4.0, 8.0, 1.0, 8.0, 10.0, 1.0],\n",
       "  [4.0, 10.0, 4.0, 7.0, 3.0, 10.0, 9.0, 10.0, 1.0],\n",
       "  [10.0, 6.0, 6.0, 3.0, 4.0, 5.0, 3.0, 6.0, 1.0],\n",
       "  [5.0, 4.0, 6.0, 7.0, 9.0, 7.0, 8.0, 10.0, 1.0],\n",
       "  [8.0, 10.0, 10.0, 10.0, 6.0, 10.0, 10.0, 10.0, 1.0],\n",
       "  [7.0, 9.0, 4.0, 10.0, 10.0, 3.0, 5.0, 3.0, 3.0],\n",
       "  [6.0, 10.0, 10.0, 2.0, 8.0, 10.0, 7.0, 3.0, 3.0],\n",
       "  [7.0, 3.0, 4.0, 4.0, 3.0, 3.0, 3.0, 2.0, 7.0],\n",
       "  [8.0, 4.0, 10.0, 5.0, 4.0, 4.0, 7.0, 10.0, 1.0],\n",
       "  [9.0, 10.0, 10.0, 10.0, 10.0, 10.0, 10.0, 10.0, 1.0],\n",
       "  [8.0, 6.0, 7.0, 3.0, 3.0, 10.0, 3.0, 4.0, 2.0],\n",
       "  [5.0, 3.0, 3.0, 3.0, 2.0, 3.0, 4.0, 4.0, 1.0],\n",
       "  [9.0, 4.0, 5.0, 10.0, 6.0, 10.0, 4.0, 8.0, 1.0],\n",
       "  [7.0, 8.0, 7.0, 2.0, 4.0, 8.0, 3.0, 8.0, 2.0],\n",
       "  [8.0, 6.0, 5.0, 4.0, 3.0, 10.0, 6.0, 1.0, 1.0],\n",
       "  [3.0, 4.0, 5.0, 2.0, 6.0, 8.0, 4.0, 1.0, 1.0],\n",
       "  [10.0, 8.0, 8.0, 2.0, 8.0, 10.0, 4.0, 8.0, 10.0],\n",
       "  [8.0, 7.0, 8.0, 5.0, 5.0, 10.0, 9.0, 10.0, 1.0],\n",
       "  [10.0, 4.0, 3.0, 1.0, 3.0, 3.0, 6.0, 5.0, 2.0],\n",
       "  [4.0, 1.0, 1.0, 3.0, 1.0, 5.0, 2.0, 1.0, 1.0],\n",
       "  [10.0, 9.0, 7.0, 3.0, 4.0, 2.0, 7.0, 7.0, 1.0],\n",
       "  [6.0, 3.0, 4.0, 1.0, 5.0, 2.0, 3.0, 9.0, 1.0],\n",
       "  [5.0, 4.0, 6.0, 8.0, 4.0, 1.0, 8.0, 10.0, 1.0],\n",
       "  [5.0, 5.0, 5.0, 6.0, 3.0, 10.0, 3.0, 1.0, 1.0],\n",
       "  [5.0, 7.0, 10.0, 6.0, 5.0, 10.0, 7.0, 5.0, 1.0],\n",
       "  [5.0, 10.0, 10.0, 10.0, 6.0, 10.0, 6.0, 5.0, 2.0],\n",
       "  [10.0, 5.0, 6.0, 10.0, 6.0, 10.0, 7.0, 7.0, 10.0],\n",
       "  [8.0, 10.0, 10.0, 10.0, 6.0, 10.0, 10.0, 10.0, 10.0],\n",
       "  [10.0, 10.0, 10.0, 10.0, 10.0, 10.0, 4.0, 10.0, 10.0],\n",
       "  [9.0, 7.0, 7.0, 5.0, 5.0, 10.0, 7.0, 8.0, 3.0],\n",
       "  [9.0, 5.0, 5.0, 4.0, 4.0, 5.0, 4.0, 3.0, 3.0],\n",
       "  [3.0, 10.0, 7.0, 8.0, 5.0, 8.0, 7.0, 4.0, 1.0],\n",
       "  [10.0, 5.0, 10.0, 3.0, 5.0, 8.0, 7.0, 8.0, 3.0],\n",
       "  [7.0, 4.0, 4.0, 3.0, 4.0, 10.0, 6.0, 9.0, 1.0],\n",
       "  [3.0, 6.0, 4.0, 10.0, 3.0, 3.0, 3.0, 4.0, 1.0],\n",
       "  [4.0, 8.0, 7.0, 10.0, 4.0, 10.0, 7.0, 5.0, 1.0],\n",
       "  [10.0, 4.0, 3.0, 10.0, 4.0, 10.0, 10.0, 1.0, 1.0],\n",
       "  [7.0, 2.0, 4.0, 1.0, 3.0, 4.0, 3.0, 3.0, 1.0],\n",
       "  [8.0, 10.0, 3.0, 2.0, 6.0, 4.0, 3.0, 10.0, 1.0],\n",
       "  [5.0, 8.0, 9.0, 4.0, 3.0, 10.0, 7.0, 1.0, 1.0],\n",
       "  [5.0, 10.0, 10.0, 8.0, 5.0, 5.0, 7.0, 10.0, 1.0],\n",
       "  [8.0, 9.0, 9.0, 5.0, 3.0, 5.0, 7.0, 7.0, 1.0],\n",
       "  [10.0, 2.0, 2.0, 1.0, 2.0, 6.0, 1.0, 1.0, 2.0],\n",
       "  [8.0, 10.0, 5.0, 3.0, 8.0, 4.0, 4.0, 10.0, 3.0],\n",
       "  [5.0, 8.0, 8.0, 8.0, 5.0, 10.0, 7.0, 8.0, 1.0],\n",
       "  [5.0, 10.0, 10.0, 5.0, 4.0, 5.0, 4.0, 4.0, 1.0],\n",
       "  [5.0, 3.0, 3.0, 4.0, 2.0, 4.0, 3.0, 4.0, 1.0],\n",
       "  [5.0, 10.0, 10.0, 3.0, 7.0, 3.0, 8.0, 10.0, 2.0],\n",
       "  [10.0, 10.0, 10.0, 3.0, 10.0, 8.0, 8.0, 1.0, 1.0],\n",
       "  [8.0, 7.0, 6.0, 4.0, 4.0, 10.0, 5.0, 1.0, 1.0],\n",
       "  [5.0, 8.0, 8.0, 10.0, 5.0, 10.0, 8.0, 10.0, 3.0],\n",
       "  [9.0, 10.0, 10.0, 1.0, 10.0, 8.0, 3.0, 3.0, 1.0],\n",
       "  [10.0, 10.0, 10.0, 8.0, 6.0, 8.0, 7.0, 10.0, 1.0],\n",
       "  [5.0, 10.0, 10.0, 10.0, 10.0, 10.0, 10.0, 1.0, 1.0],\n",
       "  [9.0, 8.0, 8.0, 5.0, 6.0, 2.0, 4.0, 10.0, 4.0],\n",
       "  [10.0, 4.0, 6.0, 1.0, 2.0, 10.0, 5.0, 3.0, 1.0],\n",
       "  [9.0, 10.0, 10.0, 1.0, 10.0, 8.0, 3.0, 3.0, 1.0],\n",
       "  [8.0, 10.0, 10.0, 10.0, 7.0, 5.0, 4.0, 8.0, 7.0],\n",
       "  [2.0, 5.0, 3.0, 3.0, 6.0, 7.0, 7.0, 5.0, 1.0],\n",
       "  [4.0, 8.0, 6.0, 4.0, 3.0, 4.0, 10.0, 6.0, 1.0],\n",
       "  [3.0, 4.0, 4.0, 10.0, 5.0, 1.0, 3.0, 3.0, 1.0],\n",
       "  [8.0, 8.0, 8.0, 1.0, 2.0, -99999.0, 6.0, 10.0, 1.0],\n",
       "  [4.0, 10.0, 8.0, 5.0, 4.0, 1.0, 10.0, 1.0, 1.0],\n",
       "  [3.0, 3.0, 5.0, 2.0, 3.0, 10.0, 7.0, 1.0, 1.0],\n",
       "  [5.0, 6.0, 7.0, 8.0, 8.0, 10.0, 3.0, 10.0, 3.0],\n",
       "  [4.0, 2.0, 3.0, 5.0, 3.0, 8.0, 7.0, 6.0, 1.0],\n",
       "  [5.0, 2.0, 3.0, 4.0, 2.0, 7.0, 3.0, 6.0, 1.0],\n",
       "  [9.0, 5.0, 5.0, 2.0, 2.0, 2.0, 5.0, 1.0, 1.0],\n",
       "  [10.0, 8.0, 7.0, 4.0, 3.0, 10.0, 7.0, 9.0, 1.0],\n",
       "  [5.0, 8.0, 4.0, 10.0, 5.0, 8.0, 9.0, 10.0, 1.0],\n",
       "  [10.0, 10.0, 7.0, 8.0, 7.0, 1.0, 10.0, 10.0, 3.0],\n",
       "  [3.0, 5.0, 7.0, 8.0, 8.0, 9.0, 7.0, 10.0, 7.0],\n",
       "  [2.0, 5.0, 7.0, 6.0, 4.0, 10.0, 7.0, 6.0, 1.0],\n",
       "  [1.0, 5.0, 8.0, 6.0, 5.0, 8.0, 7.0, 10.0, 1.0],\n",
       "  [6.0, 10.0, 2.0, 8.0, 10.0, 2.0, 7.0, 8.0, 10.0],\n",
       "  [10.0, 10.0, 6.0, 3.0, 3.0, 10.0, 4.0, 3.0, 2.0],\n",
       "  [4.0, 5.0, 5.0, 8.0, 6.0, 10.0, 10.0, 7.0, 1.0],\n",
       "  [5.0, 10.0, 10.0, 9.0, 6.0, 10.0, 7.0, 10.0, 5.0],\n",
       "  [6.0, 6.0, 7.0, 10.0, 3.0, 10.0, 8.0, 10.0, 2.0],\n",
       "  [7.0, 4.0, 6.0, 4.0, 6.0, 1.0, 4.0, 3.0, 1.0],\n",
       "  [8.0, 10.0, 10.0, 8.0, 6.0, 9.0, 3.0, 10.0, 10.0],\n",
       "  [8.0, 10.0, 10.0, 10.0, 8.0, 10.0, 10.0, 7.0, 3.0],\n",
       "  [10.0, 10.0, 9.0, 3.0, 7.0, 5.0, 3.0, 5.0, 1.0],\n",
       "  [10.0, 5.0, 7.0, 3.0, 3.0, 7.0, 3.0, 3.0, 8.0],\n",
       "  [7.0, 6.0, 4.0, 8.0, 10.0, 10.0, 9.0, 5.0, 3.0],\n",
       "  [5.0, 3.0, 2.0, 8.0, 5.0, 10.0, 8.0, 1.0, 2.0],\n",
       "  [10.0, 3.0, 6.0, 2.0, 3.0, 5.0, 4.0, 10.0, 2.0],\n",
       "  [7.0, 6.0, 10.0, 5.0, 3.0, 10.0, 9.0, 10.0, 2.0],\n",
       "  [10.0, 7.0, 7.0, 4.0, 5.0, 10.0, 5.0, 7.0, 2.0],\n",
       "  [10.0, 4.0, 2.0, 1.0, 3.0, 2.0, 4.0, 3.0, 10.0],\n",
       "  [6.0, 10.0, 10.0, 10.0, 10.0, 10.0, 8.0, 10.0, 10.0],\n",
       "  [5.0, 5.0, 7.0, 8.0, 6.0, 10.0, 7.0, 4.0, 1.0],\n",
       "  [4.0, 8.0, 8.0, 5.0, 4.0, 5.0, 10.0, 4.0, 1.0],\n",
       "  [10.0, 3.0, 5.0, 1.0, 10.0, 5.0, 3.0, 10.0, 2.0],\n",
       "  [5.0, 5.0, 5.0, 8.0, 10.0, 8.0, 7.0, 3.0, 7.0],\n",
       "  [5.0, 10.0, 10.0, 10.0, 5.0, 2.0, 8.0, 5.0, 1.0],\n",
       "  [7.0, 6.0, 3.0, 2.0, 5.0, 10.0, 7.0, 4.0, 6.0],\n",
       "  [7.0, 2.0, 4.0, 1.0, 6.0, 10.0, 5.0, 4.0, 3.0],\n",
       "  [10.0, 4.0, 3.0, 2.0, 3.0, 10.0, 5.0, 3.0, 2.0],\n",
       "  [8.0, 7.0, 4.0, 4.0, 5.0, 3.0, 5.0, 10.0, 1.0],\n",
       "  [10.0, 4.0, 4.0, 6.0, 2.0, 10.0, 2.0, 3.0, 1.0],\n",
       "  [10.0, 8.0, 10.0, 1.0, 3.0, 10.0, 5.0, 1.0, 1.0],\n",
       "  [6.0, 5.0, 4.0, 4.0, 3.0, 9.0, 7.0, 8.0, 3.0],\n",
       "  [10.0, 6.0, 4.0, 3.0, 10.0, 10.0, 9.0, 10.0, 1.0],\n",
       "  [3.0, 10.0, 3.0, 10.0, 6.0, 10.0, 5.0, 1.0, 4.0],\n",
       "  [10.0, 10.0, 8.0, 6.0, 4.0, 5.0, 8.0, 10.0, 1.0],\n",
       "  [5.0, 4.0, 6.0, 10.0, 2.0, 10.0, 4.0, 1.0, 1.0],\n",
       "  [8.0, 10.0, 8.0, 8.0, 4.0, 8.0, 7.0, 7.0, 1.0],\n",
       "  [10.0, 4.0, 6.0, 4.0, 5.0, 10.0, 7.0, 1.0, 1.0],\n",
       "  [5.0, 5.0, 5.0, 2.0, 5.0, 10.0, 4.0, 3.0, 1.0],\n",
       "  [6.0, 10.0, 10.0, 10.0, 8.0, 10.0, 7.0, 10.0, 7.0],\n",
       "  [5.0, 10.0, 6.0, 1.0, 10.0, 4.0, 4.0, 10.0, 10.0],\n",
       "  [5.0, 10.0, 10.0, 10.0, 4.0, 10.0, 5.0, 6.0, 3.0],\n",
       "  [8.0, 10.0, 10.0, 10.0, 5.0, 10.0, 8.0, 10.0, 6.0],\n",
       "  [6.0, 10.0, 10.0, 10.0, 8.0, 10.0, 10.0, 10.0, 7.0],\n",
       "  [10.0, 6.0, 4.0, 1.0, 3.0, 4.0, 3.0, 2.0, 3.0],\n",
       "  [10.0, 10.0, 10.0, 10.0, 7.0, 10.0, 7.0, 10.0, 4.0],\n",
       "  [5.0, 4.0, 6.0, 6.0, 4.0, 10.0, 4.0, 3.0, 1.0],\n",
       "  [1.0, 6.0, 8.0, 10.0, 8.0, 10.0, 5.0, 7.0, 1.0],\n",
       "  [10.0, 5.0, 5.0, 6.0, 8.0, 8.0, 7.0, 1.0, 1.0],\n",
       "  [6.0, 8.0, 7.0, 8.0, 6.0, 8.0, 8.0, 9.0, 1.0],\n",
       "  [3.0, 3.0, 5.0, 2.0, 3.0, 10.0, 7.0, 1.0, 1.0],\n",
       "  [10.0, 10.0, 10.0, 10.0, 10.0, 1.0, 8.0, 8.0, 8.0],\n",
       "  [8.0, 8.0, 9.0, 6.0, 6.0, 3.0, 10.0, 10.0, 1.0],\n",
       "  [10.0, 8.0, 10.0, 10.0, 6.0, 1.0, 3.0, 1.0, 10.0],\n",
       "  [7.0, 4.0, 7.0, 4.0, 3.0, 7.0, 7.0, 6.0, 1.0],\n",
       "  [5.0, 7.0, 10.0, 10.0, 5.0, 10.0, 10.0, 10.0, 1.0],\n",
       "  [10.0, 8.0, 4.0, 4.0, 4.0, 10.0, 3.0, 10.0, 4.0],\n",
       "  [8.0, 8.0, 9.0, 4.0, 5.0, 10.0, 7.0, 8.0, 1.0],\n",
       "  [10.0, 10.0, 10.0, 6.0, 8.0, 4.0, 8.0, 5.0, 1.0],\n",
       "  [6.0, 10.0, 10.0, 10.0, 4.0, 10.0, 7.0, 10.0, 1.0],\n",
       "  [5.0, 6.0, 6.0, 8.0, 6.0, 10.0, 4.0, 10.0, 4.0],\n",
       "  [7.0, 5.0, 6.0, 10.0, 4.0, 10.0, 5.0, 3.0, 1.0],\n",
       "  [6.0, 10.0, 5.0, 5.0, 4.0, 10.0, 6.0, 10.0, 1.0],\n",
       "  [8.0, 6.0, 4.0, 3.0, 5.0, 9.0, 3.0, 1.0, 1.0],\n",
       "  [10.0, 6.0, 6.0, 2.0, 4.0, 10.0, 9.0, 7.0, 1.0],\n",
       "  [2.0, 3.0, 4.0, 4.0, 2.0, 5.0, 2.0, 5.0, 1.0],\n",
       "  [8.0, 5.0, 6.0, 2.0, 3.0, 10.0, 6.0, 6.0, 1.0],\n",
       "  [4.0, 8.0, 6.0, 3.0, 4.0, 10.0, 7.0, 1.0, 1.0],\n",
       "  [8.0, 10.0, 10.0, 8.0, 7.0, 10.0, 9.0, 7.0, 1.0],\n",
       "  [9.0, 8.0, 8.0, 9.0, 6.0, 3.0, 4.0, 1.0, 1.0],\n",
       "  [4.0, 6.0, 6.0, 5.0, 7.0, 6.0, 7.0, 7.0, 3.0],\n",
       "  [5.0, 10.0, 10.0, 10.0, 10.0, 2.0, 10.0, 10.0, 10.0],\n",
       "  [10.0, 3.0, 4.0, 5.0, 3.0, 10.0, 4.0, 1.0, 1.0],\n",
       "  [5.0, 8.0, 7.0, 7.0, 10.0, 10.0, 5.0, 7.0, 1.0],\n",
       "  [8.0, 10.0, 10.0, 1.0, 3.0, 6.0, 3.0, 9.0, 1.0],\n",
       "  [10.0, 8.0, 8.0, 4.0, 10.0, 10.0, 8.0, 1.0, 1.0],\n",
       "  [5.0, 6.0, 5.0, 6.0, 10.0, 1.0, 3.0, 1.0, 1.0],\n",
       "  [3.0, 3.0, 6.0, 4.0, 5.0, 8.0, 4.0, 4.0, 1.0],\n",
       "  [10.0, 5.0, 8.0, 10.0, 3.0, 10.0, 5.0, 1.0, 3.0],\n",
       "  [7.0, 8.0, 3.0, 7.0, 4.0, 5.0, 7.0, 8.0, 2.0],\n",
       "  [6.0, 5.0, 5.0, 8.0, 4.0, 10.0, 3.0, 4.0, 1.0],\n",
       "  [10.0, 5.0, 5.0, 6.0, 3.0, 10.0, 7.0, 9.0, 2.0],\n",
       "  [6.0, 6.0, 6.0, 5.0, 4.0, 10.0, 7.0, 6.0, 2.0],\n",
       "  [10.0, 7.0, 7.0, 3.0, 8.0, 5.0, 7.0, 4.0, 3.0],\n",
       "  [8.0, 4.0, 4.0, 1.0, 6.0, 10.0, 2.0, 5.0, 2.0],\n",
       "  [10.0, 7.0, 7.0, 6.0, 4.0, 10.0, 4.0, 1.0, 2.0],\n",
       "  [8.0, 8.0, 7.0, 4.0, 10.0, 10.0, 7.0, 8.0, 7.0],\n",
       "  [8.0, 3.0, 8.0, 3.0, 4.0, 9.0, 8.0, 9.0, 8.0],\n",
       "  [10.0, 3.0, 5.0, 4.0, 3.0, 7.0, 3.0, 5.0, 3.0],\n",
       "  [7.0, 6.0, 6.0, 3.0, 2.0, 10.0, 7.0, 1.0, 1.0],\n",
       "  [10.0, 10.0, 10.0, 10.0, 3.0, 10.0, 10.0, 6.0, 1.0],\n",
       "  [7.0, 3.0, 2.0, 10.0, 5.0, 10.0, 5.0, 4.0, 4.0],\n",
       "  [3.0, 6.0, 6.0, 6.0, 5.0, 10.0, 6.0, 8.0, 3.0],\n",
       "  [10.0, 10.0, 8.0, 10.0, 6.0, 5.0, 10.0, 3.0, 1.0],\n",
       "  [9.0, 10.0, 10.0, 10.0, 10.0, 5.0, 10.0, 10.0, 10.0],\n",
       "  [10.0, 10.0, 10.0, 1.0, 6.0, 1.0, 2.0, 8.0, 1.0],\n",
       "  [10.0, 3.0, 3.0, 1.0, 2.0, 10.0, 7.0, 6.0, 1.0],\n",
       "  [6.0, 8.0, 7.0, 5.0, 6.0, 8.0, 8.0, 9.0, 2.0],\n",
       "  [6.0, 1.0, 3.0, 1.0, 4.0, 5.0, 5.0, 10.0, 1.0],\n",
       "  [9.0, 1.0, 2.0, 6.0, 4.0, 10.0, 7.0, 7.0, 2.0],\n",
       "  [5.0, 3.0, 4.0, 1.0, 8.0, 10.0, 4.0, 9.0, 1.0],\n",
       "  [8.0, 4.0, 7.0, 1.0, 3.0, 10.0, 3.0, 9.0, 2.0],\n",
       "  [10.0, 10.0, 10.0, 8.0, 6.0, 1.0, 8.0, 9.0, 1.0],\n",
       "  [5.0, 10.0, 10.0, 6.0, 10.0, 10.0, 10.0, 6.0, 5.0],\n",
       "  [5.0, 7.0, 9.0, 8.0, 6.0, 10.0, 8.0, 10.0, 1.0],\n",
       "  [4.0, 7.0, 8.0, 3.0, 4.0, 10.0, 9.0, 1.0, 1.0],\n",
       "  [10.0, 4.0, 5.0, 5.0, 5.0, 10.0, 4.0, 1.0, 1.0],\n",
       "  [8.0, 4.0, 5.0, 1.0, 2.0, -99999.0, 7.0, 3.0, 1.0],\n",
       "  [10.0, 10.0, 10.0, 8.0, 2.0, 10.0, 4.0, 1.0, 1.0],\n",
       "  [10.0, 4.0, 7.0, 2.0, 2.0, 8.0, 6.0, 1.0, 1.0],\n",
       "  [8.0, 7.0, 8.0, 7.0, 5.0, 5.0, 5.0, 10.0, 2.0],\n",
       "  [9.0, 5.0, 8.0, 1.0, 2.0, 3.0, 2.0, 1.0, 5.0],\n",
       "  [8.0, 2.0, 3.0, 1.0, 6.0, 3.0, 7.0, 1.0, 1.0],\n",
       "  [10.0, 4.0, 4.0, 10.0, 6.0, 10.0, 5.0, 5.0, 1.0]]}"
      ]
     },
     "execution_count": 23,
     "metadata": {},
     "output_type": "execute_result"
    }
   ],
   "source": [
    "train_set"
   ]
  },
  {
   "cell_type": "code",
   "execution_count": 42,
   "metadata": {},
   "outputs": [
    {
     "name": "stdout",
     "output_type": "stream",
     "text": [
      "CPU times: user 2 µs, sys: 1 µs, total: 3 µs\n",
      "Wall time: 6.91 µs\n",
      "('Accuracy: ', 0.9856115107913669)\n"
     ]
    }
   ],
   "source": [
    "# Training and testing\n",
    "correct = 0.0\n",
    "total = 0.0\n",
    "%time \n",
    "for group in test_set:\n",
    "    for data in test_set[group]:\n",
    "        vote = k_nearest_neighbors(train_set,data, k = 5)\n",
    "        if group == vote:\n",
    "            correct += 1\n",
    "        total += 1\n",
    "print(\"Accuracy: \", correct/total)"
   ]
  },
  {
   "cell_type": "markdown",
   "metadata": {},
   "source": [
    "### kNN disadvantages:"
   ]
  },
  {
   "cell_type": "markdown",
   "metadata": {},
   "source": [
    "1. There are two ways to measure confidence.\n",
    "    1. How many examples you got correct vs incorrect in the testing stage;\n",
    "    2. Checking the vote percentage. For example, your overall algorithm may be 97% accurate, but on some of the classifications the votes may have been 3 to 2. While 3 is the majority, it's only 60% vote rather than 100% which would be ideal. In terms of telling someone whether or not they have breast cancer, like the automatic car differentiating between a blob of tar and a child in a blanket, you probably prefer 100%! Thus, in the case of 60% vote on a 97% accurate classifier, you can be 97% sure that you are only 60% certain about your classification. \n",
    "2. Slow algorithm\n",
    "3. Doesn't handle outliers and performs worse with any useless data (e.g. 'ID' column) "
   ]
  },
  {
   "cell_type": "markdown",
   "metadata": {},
   "source": []
  },
  {
   "cell_type": "code",
   "execution_count": null,
   "metadata": {},
   "outputs": [],
   "source": []
  }
 ],
 "metadata": {
  "hide_code_all_hidden": false,
  "kernelspec": {
   "display_name": "Python 2",
   "language": "python",
   "name": "python2"
  },
  "language_info": {
   "codemirror_mode": {
    "name": "ipython",
    "version": 2
   },
   "file_extension": ".py",
   "mimetype": "text/x-python",
   "name": "python",
   "nbconvert_exporter": "python",
   "pygments_lexer": "ipython2",
   "version": "2.7.13"
  }
 },
 "nbformat": 4,
 "nbformat_minor": 2
}
